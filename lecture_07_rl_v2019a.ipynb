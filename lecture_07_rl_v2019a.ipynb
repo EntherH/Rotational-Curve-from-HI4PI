{
 "cells": [
  {
   "cell_type": "code",
   "execution_count": 2,
   "metadata": {},
   "outputs": [
    {
     "data": {
      "application/javascript": [
       "$('#menubar').toggle();"
      ],
      "text/plain": [
       "<IPython.core.display.Javascript object>"
      ]
     },
     "metadata": {},
     "output_type": "display_data"
    }
   ],
   "source": [
    "%%javascript\n",
    "$('#menubar').toggle();"
   ]
  },
  {
   "cell_type": "markdown",
   "metadata": {},
   "source": [
    "Helper functions for this lecture:"
   ]
  },
  {
   "cell_type": "code",
   "execution_count": 7,
   "metadata": {},
   "outputs": [
    {
     "name": "stdout",
     "output_type": "stream",
     "text": [
      "3.6.5 |Anaconda, Inc.| (default, Mar 29 2018, 13:32:41) [MSC v.1900 64 bit (AMD64)]\n"
     ]
    }
   ],
   "source": [
    "%matplotlib inline\n",
    "import matplotlib.pyplot as plt\n",
    "from rl import *\n",
    "from mdp import sequential_decision_environment\n",
    "from mdp import value_iteration\n",
    "import time\n",
    "from utils import argmax, vector_add, print_table\n",
    "import sys\n",
    "print(sys.version)"
   ]
  },
  {
   "cell_type": "code",
   "execution_count": 8,
   "metadata": {},
   "outputs": [],
   "source": [
    "def graph_utility_estimates_q(agent_program, mdp, no_of_iterations, states_to_graph):\n",
    "    graphs = {state:[] for state in states_to_graph}\n",
    "    \n",
    "    for iteration in range(1,no_of_iterations+1):\n",
    "        run_single_trial(agent_program, mdp)\n",
    "        \n",
    "        U = defaultdict(lambda: -1000.)\n",
    "        for state_action, value in agent_program.Q.items():\n",
    "            state, action = state_action\n",
    "            if U[state] < value:\n",
    "                U[state] = value            \n",
    "\n",
    "        for state in states_to_graph:            \n",
    "            graphs[state].append((iteration, U[state]))\n",
    "    \n",
    "    for state, value in graphs.items():\n",
    "        state_x, state_y = zip(*value)\n",
    "        plt.plot(state_x, state_y, label=str(state))\n",
    "    \n",
    "    plt.ylim([-2.6,2.6])\n",
    "    plt.legend(loc='lower right')\n",
    "    plt.xlabel('Iterations')\n",
    "    plt.ylabel('U')"
   ]
  },
  {
   "cell_type": "code",
   "execution_count": 9,
   "metadata": {},
   "outputs": [],
   "source": [
    "def value_iteration(mdp, epsilon=0.0001):\n",
    "    \"Solving an MDP by value iteration. [Figure 17.4]\"\n",
    "    U1 = {s: 0 for s in mdp.states}\n",
    "    R, T, gamma = mdp.R, mdp.T, mdp.gamma\n",
    "    while True:\n",
    "        U = U1.copy()\n",
    "        delta = 0\n",
    "        for s in mdp.states:\n",
    "            U1[s] = R(s) + gamma * max([sum([p * U[s1] for (p, s1) in T(s, a)])\n",
    "                                        for a in mdp.actions(s)])\n",
    "            delta = max(delta, abs(U1[s] - U[s]))\n",
    "        if delta < epsilon * (1 - gamma) / gamma:\n",
    "            return U"
   ]
  },
  {
   "cell_type": "code",
   "execution_count": 10,
   "metadata": {},
   "outputs": [],
   "source": [
    "def expected_utility(a, s, U, mdp):\n",
    "    \"The expected utility of doing a in state s, according to the MDP and U.\"\n",
    "    return sum([p * U[s1] for (p, s1) in mdp.T(s, a)])\n",
    "\n",
    "def best_policy(mdp, U):\n",
    "    \"\"\"Given an MDP and a utility function U, determine the best policy,\n",
    "    as a mapping from state to action. (Equation 17.4)\"\"\"\n",
    "    pi = {}\n",
    "    for s in mdp.states:\n",
    "        pi[s] = argmax(mdp.actions(s), key=lambda a: expected_utility(a, s, U, mdp))\n",
    "    return pi"
   ]
  },
  {
   "cell_type": "markdown",
   "metadata": {
    "slideshow": {
     "slide_type": "slide"
    }
   },
   "source": [
    "---"
   ]
  },
  {
   "cell_type": "markdown",
   "metadata": {
    "slideshow": {
     "slide_type": "-"
    }
   },
   "source": [
    "# Artificial Intelligence - COMPSCI4004 2018-2019"
   ]
  },
  {
   "cell_type": "markdown",
   "metadata": {
    "slideshow": {
     "slide_type": "-"
    }
   },
   "source": [
    "<h2> Week 7: Learning from rewards and observations</h2><small><small><small>v2019a</small></small></small>"
   ]
  },
  {
   "cell_type": "markdown",
   "metadata": {
    "slideshow": {
     "slide_type": "-"
    }
   },
   "source": [
    "Bjørn Sand Jensen, bjorn.jensen@glasgow.ac.uk, School of Computing Science, University of Glasgow, SAWB 306\n",
    "<br>\n"
   ]
  },
  {
   "cell_type": "markdown",
   "metadata": {},
   "source": [
    "----"
   ]
  },
  {
   "cell_type": "markdown",
   "metadata": {},
   "source": [
    "### Reading &  learning objectives"
   ]
  },
  {
   "cell_type": "markdown",
   "metadata": {},
   "source": [
    "<div class=\"alert alert-danger\">\n",
    "<font color=black>\n",
    "<b>Reading: </b><br><br>\n",
    "- AIMA Chapter (17.1-17.4) + 21 (21-21.3)<br>\n",
    "</font>\n",
    "</div>"
   ]
  },
  {
   "cell_type": "markdown",
   "metadata": {},
   "source": [
    "<div class=\"alert alert-info\">\n",
    "<font color=black>\n",
    "<b>Learning objectives:</b><br><br>\n",
    "- Understand and explain the goal and standard formulations of reinforcement learning<br>\n",
    "- Understand and explain active ADP and active Q-learning. <br>\n",
    "- Be able to apply reinforcement learning to basic problems [the lab and AE]<br>\n",
    "</font>\n",
    "</div>"
   ]
  },
  {
   "cell_type": "markdown",
   "metadata": {},
   "source": [
    "<div class=\"alert alert-warning\">\n",
    "<font color=black>\n",
    "<b>Key concepts:</b>Reinforcement learning, Passive vs active, model-based vs model-free, direct sampling, (active/passive) ADP, Q-learning<br>\n",
    "</font>\n",
    "</div>"
   ]
  },
  {
   "cell_type": "markdown",
   "metadata": {
    "slideshow": {
     "slide_type": "slide"
    }
   },
   "source": [
    "----"
   ]
  },
  {
   "cell_type": "markdown",
   "metadata": {},
   "source": [
    "### Probability, Utility and Decision (review)"
   ]
  },
  {
   "cell_type": "markdown",
   "metadata": {},
   "source": [
    "* <font color=blue>Probability</font>\n",
    "    $$P(H|e)=\\frac{P(e|H)P(H)}{P(e)}=\\frac{P(e|H)P(H)}{\\sum_h P(e|H=h)P(H=h)}=\\frac{P(e,H)}{\\sum_h P(e,H=h)}$$\n",
    "\n",
    "\n",
    "\n",
    "* <font color=blue>Utility</font>\n",
    "    $$A \\succ B <=> U(A) > U(B)$$\n",
    "    $$U: X-> \\mathbb{R}$$\n",
    "    \n",
    "    \n",
    "* <font color=blue>Decision Theory</font>\n",
    "    * Choose the action that maximizes expected utility\n",
    "\n",
    "\\begin{align}\n",
    "EU\\left( {a|{\\mathbf{e}}} \\right) &= \\sum\\limits_{s'}^{} {P\\left( {\\,\\operatorname{Result} (a) = s'\\,\\,|\\,\\,a,{\\mathbf{e}}} \\right)U(s')} \\\\ \n",
    "&= {E_{P\\left( {{\\mkern 1mu} s'{\\mkern 1mu} {\\mkern 1mu} |{\\mkern 1mu} {\\mkern 1mu} a,{\\mathbf{e}}} \\right)}}\\left\\{ {U(s')} \\right\\} \\\\\n",
    "&= {\\mathbb{E}_{s'\\sim P\\left( {{\\mkern 1mu} s'{\\mkern 1mu} {\\mkern 1mu} |{\\mkern 1mu} {\\mkern 1mu} a,{\\mathbf{e}}} \\right)}}\\left\\{ {U(s')} \\right\\} \n",
    "\\end{align}\n",
    "* Choose the optimal action by maximizing over EU:\n",
    "$$a' = \\mathop {\\arg \\max }\\limits_a EU\\left( {a|{\\mathbf{e}}} \\right)$$\n",
    "\n",
    "* Choose the optimal action by maximizing over EU with respect to a:\n",
    "$$a' = \\mathop {\\arg \\max }\\limits_a EU\\left( {a|{\\mathbf{e}}} \\right)$$\n",
    "\n",
    "* <font color=blue>Sequential decision making under uncertainty</font>\n",
    "    * Markov decision process provides a framework\n",
    "    * Choose the policy (i.e. actions) that maximizes the expected sum of discounted rewards (expected utility)\n",
    "    \n",
    "    <br>\n",
    "        \n",
    "    * 1) Bellman equations (optimality):\n",
    "$$U^*(s)=R(s)+\\gamma\\, max_a \\sum_{s'} p(s'|s,a)U^*(s')$$\n",
    "            \n",
    "    * 2) Solve Bellman equations (i.e. find $U(s)$ for all states) using your favorite numerical solver (here: Value iteration, Policy Iteration)\n",
    "    * 3) Find policy by maximum expected utility principle\n",
    "$$EU\\left( {a=\\pi(s)|{\\mathbf{s}}} \\right) = \\sum\\limits_{s'}^{} {P\\left( {\\,\\operatorname{Result} (a) = s'\\,\\,|\\,\\,a,{\\mathbf{s}}} \\right)U(s')}    $$\n"
   ]
  },
  {
   "cell_type": "markdown",
   "metadata": {},
   "source": [
    "----"
   ]
  },
  {
   "cell_type": "markdown",
   "metadata": {},
   "source": [
    "### Learning from rewards and observations"
   ]
  },
  {
   "cell_type": "markdown",
   "metadata": {},
   "source": [
    "__Recall__: We have so far assumed that we know $P(s'|s,a)$ and $R(s)$ <br>\n",
    "\n",
    "\n",
    "__Idea__: Let's try to <font color=blue>___learn___</font> the necessary quantities by exploring the environment (i.e. go gather information) and observe rewards.\n",
    "\n",
    "__Machine learning - overview__\n",
    "- Supervised Learning\n",
    "    - $\\{(\\mathbf{x}_n,\\mathbf{y}_n)\\}^{n=1:N}$: classification, categorization, regression, ranking, ....\n",
    "    - E.g. classifying the person in an image, cat or dog, speech recognition, and many other examples.\n",
    "    - A correct answer for each instance (in the traning set) i.e. episodic problem.\n",
    "    \n",
    "    \n",
    "- Unsupervised learning\n",
    "    - $\\{(\\mathbf{x}_n)\\}^{n=1:N}$: grouping/clustering, dimensionality reduction, ...\n",
    "    - E.g. clustering faces (without) knowing their identify\n",
    "    \n",
    "    \n",
    "- Reinforcement Learning: \n",
    "    - Learning from occasional rewards\n",
    "    - Cost function is the long term (expected) reward\n",
    "\n",
    "<br>"
   ]
  },
  {
   "cell_type": "code",
   "execution_count": 4,
   "metadata": {
    "scrolled": true
   },
   "outputs": [
    {
     "data": {
      "image/jpeg": "[encoded data removed]",
      "text/html": [
       "\n",
       "        <iframe\n",
       "            width=\"400\"\n",
       "            height=\"300\"\n",
       "            src=\"https://www.youtube.com/embed/VCdxqn0fcnE\"\n",
       "            frameborder=\"0\"\n",
       "            allowfullscreen\n",
       "        ></iframe>\n",
       "        "
      ],
      "text/plain": [
       "<IPython.lib.display.YouTubeVideo at 0x1423b4d9780>"
      ]
     },
     "execution_count": 4,
     "metadata": {},
     "output_type": "execute_result"
    }
   ],
   "source": [
    "from IPython.display import YouTubeVideo\n",
    "YouTubeVideo('VCdxqn0fcnE')"
   ]
  },
  {
   "cell_type": "code",
   "execution_count": 3,
   "metadata": {},
   "outputs": [
    {
     "data": {
      "image/jpeg": "[encoded data removed]",
      "text/html": [
       "\n",
       "        <iframe\n",
       "            width=\"400\"\n",
       "            height=\"300\"\n",
       "            src=\"https://www.youtube.com/embed/g-dKXOlsf98\"\n",
       "            frameborder=\"0\"\n",
       "            allowfullscreen\n",
       "        ></iframe>\n",
       "        "
      ],
      "text/plain": [
       "<IPython.lib.display.YouTubeVideo at 0x1423a977160>"
      ]
     },
     "execution_count": 3,
     "metadata": {},
     "output_type": "execute_result"
    }
   ],
   "source": [
    "from IPython.display import YouTubeVideo\n",
    "YouTubeVideo('g-dKXOlsf98')"
   ]
  },
  {
   "cell_type": "markdown",
   "metadata": {},
   "source": [
    "----"
   ]
  },
  {
   "cell_type": "markdown",
   "metadata": {},
   "source": [
    "### Reinforcement Learning"
   ]
  },
  {
   "cell_type": "markdown",
   "metadata": {},
   "source": [
    "__Idea__: Let's try to <font color=blue>___learn___</font> the nessesary quantities by exploring the enviroment (i.e. go gather information).\n",
    "\n",
    "<br>\n",
    "\n",
    "<font color=green>Example:</font> \n",
    "\n",
    "<img src=\"./resources/maze_0b.png\" style=\"width:500px\">\n",
    "<img src=\"./resources/exampleenv.png\" style=\"width:600px\">\n",
    "\n",
    "- A __given__ policy leads to the following dataset/observations when executed three times (episodes):\n",
    "<img src=\"./resources/exampledata.png\" style=\"width:60%\">"
   ]
  },
  {
   "cell_type": "markdown",
   "metadata": {},
   "source": [
    "<font color=blue>__Goal__:</font> Use the observed rewards (over multiple trials/episodes) to lean the utilities."
   ]
  },
  {
   "cell_type": "markdown",
   "metadata": {},
   "source": [
    "$${U^\\pi }(s) = {E_{P({S_t}| \\cdot , \\pi)}}\\left\\{ {\\sum\\limits_{t = 0}^\\infty  {{\\gamma ^t}R\\left( {{S_t}} \\right)} } \\right\\}$$"
   ]
  },
  {
   "cell_type": "markdown",
   "metadata": {},
   "source": [
    "----"
   ]
  },
  {
   "cell_type": "markdown",
   "metadata": {},
   "source": [
    "### Assumptions and overview"
   ]
  },
  {
   "cell_type": "markdown",
   "metadata": {},
   "source": [
    "- <font color=blue>Passive vs active</font>\n",
    "    - Passive: Fixed and know policy; we need to estimate $P(s'|s,a)$ and $R(s)$\n",
    "    - Active: Unknown policy; we need to estimate $P(s'|s,a)$ and $R(s)$ while determining the policy/actions.\n",
    "\n",
    "\n",
    "- <font color=blue>Model-based vs model-free</font>\n",
    "    - __Model-based__: Explicitly represent and learn $P(s'|s,a)$, $R(s)$\n",
    "    - __Model-free__: No explicit representation of $P(s'|s,a)$ (e.g. Q-learning)\n",
    "\n",
    "\n",
    "- <font color=blue>Tabular vs function approximations</font>\n",
    "    - __Tabular__: Represent probabilities in tables\n",
    "    - __Function approximation__: Represent knowledge about utilities and actions as a function mapping directly from states to utility.\n",
    "        - => Generalization, can predict policy for states despite not having visited them yet !"
   ]
  },
  {
   "cell_type": "markdown",
   "metadata": {},
   "source": [
    "----"
   ]
  },
  {
   "cell_type": "markdown",
   "metadata": {},
   "source": [
    "### Passive Reinforcement"
   ]
  },
  {
   "cell_type": "markdown",
   "metadata": {},
   "source": [
    "__Setup__: Given a policy; learn the transition model and rewards, in order to evaluate the utility of the policy."
   ]
  },
  {
   "cell_type": "markdown",
   "metadata": {},
   "source": [
    "##### Naiive approach: Direct Utility Estimation (naiive sampling)"
   ]
  },
  {
   "cell_type": "markdown",
   "metadata": {},
   "source": [
    "<font color=blue>__Idea__</font>: The utility of a state is the expected total reward from that state onward (called the expected reward-to-go), and each trial provides a sample of this quantity for each state visited. Let's just compute the utility as the ___running average___ of the observed rewards from that state onwards to the terminal state.\n",
    "\n",
    "<font color=green>Example:</font>\n",
    "$${U^\\pi }(s) = {E_{P({S_t}| \\cdot , \\pi)}}\\left\\{ {\\sum\\limits_{t = 0}^\\infty  {{\\gamma ^t}R\\left( {{S_t}} \\right)} } \\right\\}$$\n",
    "\n",
    "<img src=\"./resources/exampledata.png\" style=\"width:600px\">\n",
    "\n",
    "First trail/episode - total reward-to-go (not discounted):\n",
    "\n",
    "- (1,1): 7 x -0.04 + 1 = 0.72<br>\n",
    "=> U(1,1) = (0.72 + 0.84)/2 <br>\n",
    "\n",
    "<br>\n",
    "\n",
    "- (1,2): 6 x -0.04 + 1 = 0.76\n",
    "- (1,2): 4 x -0.04 + 1 = 0.84<br>\n",
    "=> U(1,2) = (0.76 + 0.84)/2 = 0.8 <br>\n",
    "\n",
    "<br>\n",
    "\n",
    "- (1,3): 5 x -0.04 + 1 = 0.80\n",
    "- (1,3): 3 x -0.04 + 1 = 0.88 <br>\n",
    "=> U(1,3) = ?\n",
    "\n",
    "\n",
    "<font color=blue>__Properties__</font>:\n",
    "- Will converge to the true value of the utility, $U(s)$, if we visit all states a number of times.   \n",
    "- It is essentially a supervised machine learning problem (mapping from state to reward-to-go)!\n",
    "\n",
    "<font color=blue>__Issue__</font>:\n",
    "- We need observed many episode to update to estimate the mean utility for each state\n",
    "- Ignores the connection between neighboring states\n",
    "    - E.g. the Bellman equation suggests that (3,2) is also likely to have a high utility, because it leads to (3,3), but direct utility estimation learns nothing until the end of the trial\n",
    "    - => slow convergence of the utility estimates\n",
    "\n",
    "... but is actually often used as part of other RL schemes (e.g. AlphaGo)!\n",
    "\n",
    "----"
   ]
  },
  {
   "cell_type": "markdown",
   "metadata": {},
   "source": [
    "##### Adaptive Dynamic Programming"
   ]
  },
  {
   "cell_type": "markdown",
   "metadata": {},
   "source": [
    "<font color=blue>__Idea__</font>:: Take advantage of the constraints between states by learning the transition model, $P(s'|s,a)$ that connects them and solve the corresponding Markov decision process to determine the utilities\n",
    "1. Estimate: $$P(s' | s, a) \\leftarrow N_{s'|sa}[s' , s, a] / N_{sa}[s,a]$$ (\"learning\")\n",
    "2. Solve the fixed-policy Bellman equations  (POLICY-EVALUATION):\n",
    "    $${U_i}(s) = R(s) + \\gamma \\sum\\limits_{s'}^{} {P\\left( {s'|{\\pi _i}(s),s} \\right){U_i}(s')} $$\n",
    "3. Return the action from the fixed-policy\n",
    "\n",
    "... iterate\n",
    "\n",
    "<img src=\"./resources/passiveadp.png\" style=\"width:600px\">\n",
    "\n",
    "----"
   ]
  },
  {
   "cell_type": "markdown",
   "metadata": {},
   "source": [
    "##### Temporal Difference Learning"
   ]
  },
  {
   "cell_type": "markdown",
   "metadata": {},
   "source": [
    "<font color=blue>__Idea__</font>:: Use the observed immediate ___transitions___ to adjust the utilities of the observed states so that they agree with the Bellman\n",
    "equations.\n",
    "\n",
    "- E.g. consider the transition from (1,3) to (2,3). As a result of the first trial, the utility estimates are $U^\\pi(1, 3)=0.84$ and $U^\\pi(2, 3)=0.92$. Now, if this transition occurred all the time, we would expect the utilities to obey the equation:\n",
    "\n",
    "$$U^\\pi(1, 3) = −0.04 + U^\\pi(2, 3) ,$$\n",
    "\n",
    "so $U^\\pi(1, 3)$ would be 0.88 and its current estimate is too low and should be increased a bit.\n",
    "\n",
    "__TD learning procedure__:\n",
    "1. Select action from policy in state $s$, observe transition from $s$ to $s'$ (i.e. only one local observation)\n",
    "2. Estimate/guess before: ${U^\\pi }(s)$\n",
    "3. Estimate/guess after observing the _one_ step : $${R\\left( s \\right) + \\gamma {U^\\pi }(s')}$$ (TD target)\n",
    "4. Updated assuming the observed transition happends all the time:\n",
    "\n",
    "$${U^\\pi }(s) = {U^\\pi }(s) + \\alpha \\left( {R\\left( s \\right) + \\gamma {U^\\pi }(s') - {U^\\pi }(s)} \\right)$$\n",
    "\n",
    "- But we know the step doesn't happend all the time (unless in deterministic environment) so use a small step-size $\\alpha$.\n",
    "\n",
    "... itereate (update s to s')\n",
    "\n",
    "<br>    \n",
    "\n",
    "<img src=\"./resources/passivetdagent.png\" style=\"width:600px\">\n",
    "\n",
    "__Properties__:\n",
    "- Very simple update rules\n",
    "- No transition model (i.e. model free) !\n",
    "- Consistency: TD converges to the true policy (with proper $\\alpha$).\n",
    "\n",
    "__Issues__:\n",
    "- Takes a lot of iterations (e.g. only updates one utility at the time; not all the neighbors)"
   ]
  },
  {
   "cell_type": "markdown",
   "metadata": {},
   "source": [
    "----"
   ]
  },
  {
   "cell_type": "markdown",
   "metadata": {},
   "source": [
    "### Active reinforcement learning (\"control\")"
   ]
  },
  {
   "cell_type": "markdown",
   "metadata": {},
   "source": [
    "__Issue with passive RL__: For real-world scenarios we do not know the policy and need to take into account the fact that the agent has a choice of actions.\n",
    "\n",
    "Bellman:\n",
    "\n",
    "$$U(s) = R(s) + \\gamma \\mathop {\\max }\\limits_{a \\in A(s)} \\sum\\limits_{s'}^{} {P\\left( {s'|a,s} \\right)U(s')} $$\n",
    "\n",
    "<font color=darkmagenta>$$\\pi^*(s) = \\mathop {\\arg \\max }\\limits_{a \\in A(s)} \\sum\\limits_{s'}^{} {P\\left( {{\\mkern 1mu} s'{\\mkern 1mu} {\\mkern 1mu} |{\\mkern 1mu} {\\mkern 1mu} a,s} \\right)U(s')}$$</font>\n",
    "\n",
    "----\n",
    "\n",
    "__Active ADP Greedy__:\n",
    "\n",
    "Input: Initial values for $P(s'|s,a)$ and $R(s)$\n",
    "1. Update $P(s'|s,a)$ and $R(s)$, i.e. $$P(s' | s, a) \\leftarrow N_{s'|sa}[s' , s, a] / N_{sa}[s,a]$$\n",
    "2. Solve Bellman (non-fixed policy solution), i.e. get current estimate of U(s) with the updated model\n",
    "3. Select one-step action to maximize the expected utility given U\n",
    "4. Take action and observe resulting state and reward (and save)\n",
    "\n",
    "<br>\n",
    "\n",
    "... iterate\n",
    "\n",
    "----\n",
    "\n",
    "\n",
    "\n",
    "___Issue___: The greedy agent very seldom converges to the optimal policy (i.e. takes the lower route)\n",
    "\n",
    "<img src=\"./resources/greedysubopt.png\" style=\"width:600px\">\n",
    "\n",
    "Why is that ?\n",
    "\n",
    "<br>\n",
    "\n",
    "- The learned model is not the same as the true environment; what is optimal in the\n",
    "learned model can therefore be suboptimal in the true environment. \n",
    "- __The greedy active ADP has overlooked that the action does more than just result in rewards - it also contrbutes to learning the model !__"
   ]
  },
  {
   "cell_type": "markdown",
   "metadata": {},
   "source": [
    "---\n",
    "___Solution___: Exploration vs exploitation trade-off \n",
    "- Explore the environment to get larger reward in the long run - but to not \"over\" explore (vasting resources/time)\n",
    "    - E.g. With probability 1/t choose a random action\n",
    "- Optimal exploration is generally very difficult to analyse\n",
    "- E.g. With probability 1/t choose a random action\n",
    "\n",
    "<br>\n",
    "<br>\n",
    "\n",
    "__One suggestion__:\n",
    "\n",
    "$${U^ + }(s) = R(s) + \\gamma \\mathop {\\max }\\limits_{a \\in A(s)} f\\left( {\\sum\\limits_{s'}^{} {P\\left( {s'|a,s} \\right){U^ + }(s')} ,{N_{sa}}} \\right)$$\n",
    "where\n",
    "- $f(u,n)$ is a exploration function trading off optimistic utility (under the model) vs exploration (learning a better model).\n",
    "- $U^+$ optimistic estimate of the utility (i.e., the expected reward-to-go) of the state s (we think that there are rewards uniformaly scattered around, initially at least)\n",
    "- $N(s, a)$ be the number of times action a has been tried in state s.\n",
    "\n",
    "$$f\\left( {u,n} \\right) = \\left\\{ {\\begin{array}{*{20}{c}}\n",
    "  {{R^ + }\\,\\,\\,if\\,n < {N_e}} \\\\ \n",
    "  {u\\,\\,\\,otherwise} \n",
    "\\end{array}} \\right.$$\n",
    "\n",
    "where\n",
    "- $R^+$ is an optimistic estimate of the best possible reward obtainable in any state and \n",
    "- $N_e$ is a fixed parameter (minimum number of times a state-action should be attempted)\n",
    "----"
   ]
  },
  {
   "cell_type": "markdown",
   "metadata": {},
   "source": [
    "##### Active ADP (exploratory)"
   ]
  },
  {
   "cell_type": "markdown",
   "metadata": {},
   "source": [
    "Effectively the same a Active ADP Greedy but with the \"exploration\" Bellman equations\n",
    "<br>\n",
    "\n",
    "<img src=\"./resources/adpexp.png\" style=\"width:800px\">\n",
    "<center>$R^+ = 2$ and $Ne = 5$</center>"
   ]
  },
  {
   "cell_type": "markdown",
   "metadata": {},
   "source": [
    "----"
   ]
  },
  {
   "cell_type": "markdown",
   "metadata": {},
   "source": [
    "##### Q-learning (model-free)"
   ]
  },
  {
   "cell_type": "markdown",
   "metadata": {},
   "source": [
    "__Idea__: Learn an action-utility representation instead of learning utilities, i.e. aim directly at mapping states to actions without the model.\n",
    "\n",
    "$$U(s) = \\mathop {\\max }\\limits_a Q(s,a)$$\n",
    "\n",
    "Bellman equations for the Q-function:\n",
    "\n",
    "$$Q(s,a) = R(s) + \\gamma \\sum\\limits_{s'}^{} {P\\left( {s'|a,s} \\right)\\mathop {\\max }\\limits_{a'} Q(s',a')} $$\n",
    "\n",
    "Exploit TD learning: Use the observed ___transitions___ to adjust the utilities of the observed states so that they agree with the Bellman\n",
    "equations.\n",
    "\n",
    "\n",
    "$$Q(s,a) = Q(s,a) + \\alpha (R\\left( s \\right) + \\gamma \\mathop {\\max }\\limits_{a'} Q(s',a') - Q(s,a))$$\n",
    "- Updated whenever action $a$ is executed in state $s$ leading to state $s'$ (i.e. we now have evidence that this transition can occur) .\n",
    "\n",
    "\n",
    "\n",
    "Adding exploration gives you the very popular Q-learning algorithm.\n",
    "\n",
    "\n",
    "<img src=\"./resources/qlearner.png\" style=\"width:800px\">\n",
    "\n",
    "----"
   ]
  },
  {
   "cell_type": "markdown",
   "metadata": {},
   "source": [
    "<b><font color=green>Example (revisited):</font></b>\n",
    "\n",
    "<img src=\"./resources/maze_0.png\" style=\"width:700px\">\n"
   ]
  },
  {
   "cell_type": "markdown",
   "metadata": {},
   "source": [
    "#### Value Iteration (ground-truth)"
   ]
  },
  {
   "cell_type": "code",
   "execution_count": 37,
   "metadata": {},
   "outputs": [
    {
     "data": {
      "text/plain": [
       "{(0, 1): 0.39850680143125394,\n",
       " (1, 2): 0.6495863318636782,\n",
       " (3, 2): 1.0,\n",
       " (0, 0): 0.29645419831913844,\n",
       " (3, 0): 0.12993648280124198,\n",
       " (3, 1): -1.0,\n",
       " (2, 1): 0.4864404379765214,\n",
       " (2, 0): 0.3447854954711281,\n",
       " (2, 2): 0.7953622365504776,\n",
       " (1, 0): 0.2539524935568401,\n",
       " (0, 2): 0.5094142322350038}"
      ]
     },
     "execution_count": 37,
     "metadata": {},
     "output_type": "execute_result"
    }
   ],
   "source": [
    "U_opt = value_iteration(sequential_decision_environment) # rerun solver\n",
    "U_opt"
   ]
  },
  {
   "cell_type": "code",
   "execution_count": 38,
   "metadata": {},
   "outputs": [
    {
     "data": {
      "text/plain": [
       "{(0, 1): (0, 1),\n",
       " (1, 2): (1, 0),\n",
       " (3, 2): None,\n",
       " (0, 0): (0, 1),\n",
       " (3, 0): (-1, 0),\n",
       " (3, 1): None,\n",
       " (2, 1): (0, 1),\n",
       " (2, 0): (0, 1),\n",
       " (2, 2): (1, 0),\n",
       " (1, 0): (1, 0),\n",
       " (0, 2): (1, 0)}"
      ]
     },
     "execution_count": 38,
     "metadata": {},
     "output_type": "execute_result"
    }
   ],
   "source": [
    "pi_opt = best_policy(sequential_decision_environment, U_opt)\n",
    "pi_opt"
   ]
  },
  {
   "cell_type": "code",
   "execution_count": 39,
   "metadata": {},
   "outputs": [
    {
     "name": "stdout",
     "output_type": "stream",
     "text": [
      ">   >      >   .\n",
      "^   None   ^   .\n",
      "^   >      ^   <\n"
     ]
    }
   ],
   "source": [
    "print_table(sequential_decision_environment.to_arrows(pi_opt))"
   ]
  },
  {
   "cell_type": "markdown",
   "metadata": {},
   "source": [
    "#### Q-learning\n",
    "\n",
    "Q-table with north = (0, 1),south = (0,-1),west = (-1, 0),east = (1, 0)"
   ]
  },
  {
   "cell_type": "code",
   "execution_count": 40,
   "metadata": {},
   "outputs": [],
   "source": [
    "%psource QLearningAgent"
   ]
  },
  {
   "cell_type": "code",
   "execution_count": 60,
   "metadata": {},
   "outputs": [
    {
     "data": {
      "image/png": "[encoded data removed]",
      "text/plain": [
       "<Figure size 432x288 with 1 Axes>"
      ]
     },
     "metadata": {},
     "output_type": "display_data"
    }
   ],
   "source": [
    "no_of_iters = 1000\n",
    "q_agent = QLearningAgent(sequential_decision_environment, Ne=5, Rplus=10, \n",
    "                         alpha=lambda n: 60./(59+n))\n",
    "graph_utility_estimates_q(q_agent, sequential_decision_environment, no_of_iters, [(0,0),(0,1),(0,2),(1,0),(1,2),(2,0),(2,1),(2,2),(3,0),(3,1),(3,2)])  "
   ]
  },
  {
   "cell_type": "code",
   "execution_count": 57,
   "metadata": {},
   "outputs": [
    {
     "data": {
      "text/plain": [
       "defaultdict(float,\n",
       "            {((0, 0), (1, 0)): 0.16755550383027662,\n",
       "             ((0, 0), (0, 1)): -0.10478572174094562,\n",
       "             ((0, 0), (-1, 0)): -0.1307867132867133,\n",
       "             ((0, 0), (0, -1)): -0.10590764087842354,\n",
       "             ((1, 0), (1, 0)): 0.19652764600142533,\n",
       "             ((1, 0), (0, 1)): -0.10293706293706295,\n",
       "             ((1, 0), (-1, 0)): -0.0758963133640553,\n",
       "             ((1, 0), (0, -1)): -0.0759999433406361,\n",
       "             ((2, 0), (1, 0)): -0.0962191780821918,\n",
       "             ((2, 0), (0, 1)): 0.18065780026813896,\n",
       "             ((2, 0), (-1, 0)): -0.07611976440083822,\n",
       "             ((2, 0), (0, -1)): -0.0759999433406361,\n",
       "             ((2, 1), (1, 0)): -0.0939133441726363,\n",
       "             ((2, 1), (0, 1)): -0.7703964331846485,\n",
       "             ((2, 1), (-1, 0)): 0.4311473699375678,\n",
       "             ((2, 1), (0, -1)): -0.6361283711358927,\n",
       "             ((3, 1), None): -0.8517314267276732,\n",
       "             ((3, 0), (1, 0)): -0.10293706293706295,\n",
       "             ((3, 0), (0, 1)): -0.9021691009174653,\n",
       "             ((3, 0), (-1, 0)): -0.039789265393528374,\n",
       "             ((3, 0), (0, -1)): -0.10590764087842354,\n",
       "             ((0, 1), (1, 0)): -0.07323076923076924,\n",
       "             ((0, 1), (0, 1)): -0.050521756117421684,\n",
       "             ((0, 1), (-1, 0)): -0.04,\n",
       "             ((0, 1), (0, -1)): -0.10612616750329167,\n",
       "             ((0, 2), (1, 0)): 0.4893699275260915,\n",
       "             ((0, 2), (0, 1)): -0.058837416097612706,\n",
       "             ((0, 2), (-1, 0)): -0.06663541801538156,\n",
       "             ((0, 2), (0, -1)): -0.04327372886260282,\n",
       "             ((1, 2), (1, 0)): 0.6583155534578483,\n",
       "             ((1, 2), (0, 1)): 0.5085564860911451,\n",
       "             ((1, 2), (-1, 0)): 0.4869169529423105,\n",
       "             ((1, 2), (0, -1)): 0.5085661766842359,\n",
       "             ((2, 2), (1, 0)): 0.7678353687985884,\n",
       "             ((2, 2), (0, 1)): 0.6354322654985045,\n",
       "             ((2, 2), (-1, 0)): 0.6878933444449676,\n",
       "             ((2, 2), (0, -1)): 0.5048450036039085,\n",
       "             ((3, 2), None): 0.9387396877648622})"
      ]
     },
     "execution_count": 57,
     "metadata": {},
     "output_type": "execute_result"
    }
   ],
   "source": [
    "q_agent.Q"
   ]
  },
  {
   "cell_type": "code",
   "execution_count": 43,
   "metadata": {},
   "outputs": [
    {
     "data": {
      "text/plain": [
       "defaultdict(<function __main__.<lambda>()>,\n",
       "            {(0, 0): -0.20968643498638898,\n",
       "             (1, 0): -0.23035039404707805,\n",
       "             (2, 0): -0.24736233268912994,\n",
       "             (3, 0): -0.2678370452924277,\n",
       "             (3, 1): -0.9309404060179411,\n",
       "             (0, 1): -0.1748254788039172,\n",
       "             (0, 2): -0.14137362777328577,\n",
       "             (1, 2): -0.09151292462950826,\n",
       "             (2, 2): -0.04765845021212309,\n",
       "             (3, 2): 0.008784080717034383,\n",
       "             (2, 1): -0.2805036564083392})"
      ]
     },
     "execution_count": 43,
     "metadata": {},
     "output_type": "execute_result"
    }
   ],
   "source": [
    "U = defaultdict(lambda: -1000.) \n",
    "for state_action, value in q_agent.Q.items():\n",
    "    state, action = state_action\n",
    "    if U[state] < value:\n",
    "        U[state] = value         \n",
    "U"
   ]
  },
  {
   "cell_type": "code",
   "execution_count": 44,
   "metadata": {},
   "outputs": [],
   "source": [
    "pi_opt = best_policy(sequential_decision_environment, U)"
   ]
  },
  {
   "cell_type": "code",
   "execution_count": 45,
   "metadata": {},
   "outputs": [
    {
     "name": "stdout",
     "output_type": "stream",
     "text": [
      ">   >      >   .\n",
      "^   None   ^   .\n",
      "^   <      <   v\n"
     ]
    }
   ],
   "source": [
    "print_table(sequential_decision_environment.to_arrows(pi_opt))"
   ]
  },
  {
   "cell_type": "markdown",
   "metadata": {},
   "source": [
    "\n",
    "-----\n",
    "### RL Evaluation\n",
    "\n",
    "___Issue___: A large choice of different models with many algorithmic choices to be made (even for a simple problem)...\n",
    "\n",
    "For example:\n",
    "- Which method / model ?\n",
    "- Parameters changes the results, which setting is better ?\n",
    "- Initialisation changes the result (e.g. randomness in the environment), which is better ?\n",
    "- Number of iterations changes the results, converged ?\n",
    "- ...\n",
    "\n",
    "For standard search based methods, theoretical computing science has been able to prove complexity, optimality for many (e.g. A-star) under well-defined conditions.\n",
    "\n",
    "In dealing with __real-world AI problems__ we are often often left with asymptotic bounds depending on some property of the problem. This effectively means that we often need to do a large amount of empirical evaluation (we can still do theoretical stuff asymptotically):\n",
    "\n",
    "\n",
    "\n",
    "#### Aspects\n",
    "- __Completeness__\n",
    "    - Will the procedure find a solution if there is one ?    \n",
    "\n",
    "- __Optimality__\n",
    "    - Does it find the optimal solution, i.e. policy ?\n",
    "    \n",
    "- __Complexity__\n",
    "    - Space: How much memory does the procedure require ?\n",
    "    - Time: How quickly does it solve it?\n",
    "        - I) Learning\n",
    "        - II) Policy estimation / execution\n",
    "        \n",
    "- __Robustness__\n",
    "    - Is the method/parameter choice robust?\n",
    "        - Robust for the same problem (e.g. repeat the experiment)\n",
    "        - Does it generalize to new problem of the same type\n",
    "            - e.g. can we apply the same procedure for learning and policy estimation to variations of teh same problem (e.g. different start and goal states)?\n",
    "        - Does it generalize to new problem of the same type\n",
    "            - e.g. can we apply the same procedure for learning and policy estimation to variations ?\n",
    "    \n",
    "\n",
    "#### Evaluation setting\n",
    "<br>\n",
    "<center>Human-learning <-> Toy problems (4x3 world) </center>\n",
    "\n",
    "<br>\n",
    "\n",
    "<center>Real-world $<->$ Simulator</center>\n",
    "\n",
    "\n",
    "- Real-world\n",
    "    - Human: Highly complex goal (\"happy life\"), albeit often divided subgoals, i.e. some repeated tasks       \n",
    "\n",
    "\n",
    "- Simulation-based\n",
    "    - Option to learn/memorize across episodes/trials\n",
    "        - e.g. replay a video game\n",
    "\n",
    "#### Aspects to consider when evaluating reinforcement agents\n",
    "\n",
    "- Problem formulation/modelling: \n",
    "    - e.g. is MDP suitable\n",
    "    - e.g. is the discount factor appropriate?\n",
    "    - e.g. are the exploration parameters appropriate?         \n",
    "- Validate simulations settings \n",
    "     - e.g. number of iterations leading to convergence        \n",
    "- Evaluate performance across relevant random aspects (e.g. random initialisations, random effects in the environment)    \n",
    "    - e.g. consider average performance and variance across repetitions\n",
    "- Generalization across problem variations...\n",
    "    - e.g. have your agent learned to solve all mazes in the world\n",
    "- Generalization across problem types/domains/tasks...    \n",
    "    - e.g. have you agent learned to solve fundamentally different tasks\n",
    "\n",
    "- Generalization: idealy, we'd need to select our model, algorithm and parameters on a held-out problemtask/variant in order to estimate the agents ability to generalize\n",
    "\n",
    "And we should always evaluate based on a set of well-defined metrics / performance measures...\n",
    "\n",
    "----\n",
    "### Performance Metrics\n",
    "\n",
    "__Observed reward__:\n",
    "- per episode/trial (e.g mean and variance)\n",
    "- per action (e.g mean and variance)\n",
    "- ...\n",
    "\n",
    "__Utility loss__ ( Q(s,a) loss):\n",
    "\n",
    "${\\mathbf{U}}$ is a vector of the utilities ${\\mathbf{U}} = {[U(s0),U(s1),...U({sn})]^ \\top }$\n",
    "\n",
    "$$\\begin{gathered}\n",
    "  E = \\left\\| {{\\mathbf{\\hat U}} - {\\mathbf{U}}} \\right\\|_{2}^2 = \\sum\\limits_{\\forall s}^{} {{{\\left( {\\hat U\\left( s \\right) - U\\left( s \\right)} \\right)}^2}}  \\hfill \\\\\n",
    "    {E_{RootMeanSqure}} = \\sqrt {\\frac{1}{{{N_S}}}\\sum\\limits_{\\forall s}^{} {{{\\left( {\\hat U\\left( s \\right) - U\\left( s \\right)} \\right)}^2}} }  \\hfill \\\\ \n",
    "  {E_\\infty } = \\left\\| {{\\mathbf{\\hat U}} - {\\mathbf{U}}} \\right\\|_\\infty ^{} = {\\max _s}\\left( {{\\mathbf{\\hat U}} - {\\mathbf{U}}} \\right) \\hfill \\\\\n",
    "\\end{gathered}$$\n",
    "\n"
   ]
  },
  {
   "cell_type": "markdown",
   "metadata": {},
   "source": [
    "__Policy loss__: \n",
    "The most the agent can loose by executing a suboptimal policy compared to the optimal one\n",
    "\n",
    "$$\\left\\| {{U^{\\pi_i}} - U} \\right\\|_\\infty < \\epsilon\\,\\,\\,\\,then\\,\\,\\left\\| {{U^{{\\pi _i}}} - U} \\right\\|_\\infty < 2\\,\\epsilon\\gamma /(1 - \\gamma )$$\n",
    "\n",
    "... but what is $\\epsilon$ ??\n",
    " \n",
    "    \n",
    "__Goal loss__:\n",
    "\n",
    "- Number of times an agent reaches the goal ...."
   ]
  },
  {
   "cell_type": "markdown",
   "metadata": {},
   "source": [
    "---"
   ]
  },
  {
   "cell_type": "markdown",
   "metadata": {},
   "source": [
    "### Summary"
   ]
  },
  {
   "cell_type": "markdown",
   "metadata": {
    "collapsed": true
   },
   "source": [
    "* The real-world is uncertain but we still need to make decisions and take actions based on uncertain environments.\n",
    "    - MDPs provide a useful model for many real-world problems  \n",
    "    \n",
    "    \n",
    "* We typically __do not__ know the rewards and transition models so we need to learn them as part of the decision making process, for example using reinforcement learning techniques\n",
    "\n",
    "\n",
    "* Passive RL techniques (fixed policy)\n",
    "    - Passive ADP\n",
    "    - \n",
    "\n",
    "* Active reinforcement learning techniques, in particular    \n",
    "    * ADP model-based on the Bellman equations and greedly finds a policy \n",
    "    * Q-learning which exploits temporal difference learning (updating\n",
    "\n",
    "\n",
    "__Main issue:__ They all rely on a table (U or Q) and that we observe all state-action pairs....\n",
    "\n",
    "\n",
    "__Next week:__ Week policy search and function approximations (followed by neural networks for function approximation in week 9).\n",
    "\n",
    "\n",
    "<br>\n",
    "    "
   ]
  },
  {
   "cell_type": "markdown",
   "metadata": {},
   "source": [
    "<div class=\"alert alert-warning\">\n",
    "<font color=black>\n",
    "<b>Key concepts:</b>Reinforcement learning, Passive vs active, model-based vs model-free, direct sampling, (active/passive) ADP, Q-learning<br>\n",
    "</font>\n",
    "</div>"
   ]
  },
  {
   "cell_type": "code",
   "execution_count": 3,
   "metadata": {},
   "outputs": [
    {
     "ename": "ImportError",
     "evalue": "No module named 'turtle'",
     "output_type": "error",
     "traceback": [
      "\u001b[0;31m---------------------------------------------------------------------------\u001b[0m",
      "\u001b[0;31mImportError\u001b[0m                               Traceback (most recent call last)",
      "\u001b[0;32m<ipython-input-3-a933630970a4>\u001b[0m in \u001b[0;36m<module>\u001b[0;34m()\u001b[0m\n\u001b[0;32m----> 1\u001b[0;31m \u001b[0;32mfrom\u001b[0m \u001b[0mturtle\u001b[0m \u001b[0;32mimport\u001b[0m \u001b[0;34m*\u001b[0m\u001b[0;34m\u001b[0m\u001b[0m\n\u001b[0m\u001b[1;32m      2\u001b[0m \u001b[0;32mfrom\u001b[0m \u001b[0mrandom\u001b[0m \u001b[0;32mimport\u001b[0m \u001b[0;34m*\u001b[0m\u001b[0;34m\u001b[0m\u001b[0m\n\u001b[1;32m      3\u001b[0m \u001b[0;32mfrom\u001b[0m \u001b[0mmath\u001b[0m \u001b[0;32mimport\u001b[0m \u001b[0;34m*\u001b[0m\u001b[0;34m\u001b[0m\u001b[0m\n\u001b[1;32m      4\u001b[0m \u001b[0;32mdef\u001b[0m \u001b[0mtree\u001b[0m\u001b[0;34m(\u001b[0m\u001b[0mn\u001b[0m\u001b[0;34m,\u001b[0m \u001b[0ml\u001b[0m\u001b[0;34m)\u001b[0m\u001b[0;34m:\u001b[0m\u001b[0;34m\u001b[0m\u001b[0m\n\u001b[1;32m      5\u001b[0m     \u001b[0mpd\u001b[0m\u001b[0;34m(\u001b[0m\u001b[0;34m)\u001b[0m\u001b[0;34m\u001b[0m\u001b[0m\n",
      "\u001b[0;31mImportError\u001b[0m: No module named 'turtle'"
     ]
    }
   ],
   "source": [
    "from turtle import * \n",
    "from random import * \n",
    "from math import * \n",
    "def tree(n, l): \n",
    "    pd() \n",
    "    t = cos(radians(heading() + 45)) / 8 + 0.25 \n",
    "    pencolor(t, t, t) \n",
    "    pensize(n / 4) \n",
    "    forward(l) \n",
    "    if n > 0: \n",
    "        b = random() * 15 + 10 \n",
    "        c = random() * 15 + 10 \n",
    "        d = l * (random() * 0.35 + 0.6) \n",
    "        right(b) \n",
    "        tree(n - 1, d) \n",
    "        left(b + c) \n",
    "        tree(n - 1, d) \n",
    "        right(c) \n",
    "    else: \n",
    "        right(90) \n",
    "        n = cos(radians(heading() - 45)) / 4 + 0.5 \n",
    "        pencolor(n, n, n) \n",
    "        circle(2) \n",
    "        left(90) \n",
    "    pu() \n",
    "    backward(l) \n",
    "bgcolor(0.5, 0.5, 0.5) \n",
    "ht() \n",
    "speed(0) \n",
    "tracer(0, 0) \n",
    "left(90) \n",
    "pu() \n",
    "backward(300) \n",
    "tree(13, 100) \n",
    "done()"
   ]
  },
  {
   "cell_type": "code",
   "execution_count": null,
   "metadata": {},
   "outputs": [],
   "source": []
  }
 ],
 "metadata": {
  "anaconda-cloud": {},
  "kernelspec": {
   "display_name": "Python 3",
   "language": "python",
   "name": "python3"
  },
  "language_info": {
   "codemirror_mode": {
    "name": "ipython",
    "version": 3
   },
   "file_extension": ".py",
   "mimetype": "text/x-python",
   "name": "python",
   "nbconvert_exporter": "python",
   "pygments_lexer": "ipython3",
   "version": "3.4.9"
  }
 },
 "nbformat": 4,
 "nbformat_minor": 1
}
